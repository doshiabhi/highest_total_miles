import pandas as pd

out_df = my_uber_drives.groupby(by = 'purpose', as_index=False).agg({'miles':'sum'}).sort_values(by = 'miles', ascending=False)

out_df.iloc[0:3]
